{
 "cells": [
  {
   "cell_type": "code",
   "execution_count": 17,
   "metadata": {
    "collapsed": true
   },
   "outputs": [],
   "source": [
    "import numpy as np\n",
    "import pandas as pd\n",
    "import glob\n",
    "\n",
    "import statsmodels.api as sm\n",
    "from statsmodels.api import OLS\n",
    "\n",
    "from sklearn.decomposition import PCA\n",
    "from sklearn.linear_model import LogisticRegression\n",
    "from sklearn.linear_model import LogisticRegressionCV\n",
    "from sklearn.discriminant_analysis import LinearDiscriminantAnalysis\n",
    "from sklearn.discriminant_analysis import QuadraticDiscriminantAnalysis\n",
    "from sklearn.preprocessing import PolynomialFeatures\n",
    "from sklearn.neighbors import KNeighborsClassifier\n",
    "from sklearn.model_selection import cross_val_score\n",
    "from sklearn.metrics import accuracy_score\n",
    "from sklearn.model_selection import KFold\n",
    "from sklearn.preprocessing import MinMaxScaler\n",
    "from sklearn.model_selection import train_test_split\n",
    "from sklearn.preprocessing import StandardScaler\n",
    "from sklearn.linear_model import LinearRegression\n",
    "from pandas.plotting import scatter_matrix\n",
    "\n",
    "from os import listdir\n",
    "from os.path import isfile, join\n",
    "\n",
    "import math\n",
    "from scipy.special import gamma\n",
    "\n",
    "import matplotlib\n",
    "import matplotlib.pyplot as plt\n",
    "%matplotlib inline\n",
    "\n",
    "import seaborn as sns\n",
    "sns.set()\n",
    "\n",
    "from IPython.display import display\n",
    "import json\n",
    "\n",
    "from sklearn.model_selection import cross_val_score\n",
    "from sklearn.utils import resample\n",
    "from sklearn.tree import DecisionTreeClassifier\n",
    "from sklearn.ensemble import RandomForestClassifier\n",
    "from sklearn.ensemble import RandomForestRegressor\n",
    "from sklearn.ensemble import AdaBoostClassifier\n",
    "from sklearn.metrics import accuracy_score\n",
    "from sklearn.tree import DecisionTreeRegressor\n",
    "from sklearn import metrics, svm\n",
    "\n",
    "%matplotlib inline\n",
    "\n",
    "import seaborn as sns\n",
    "sns.set(style='whitegrid')\n",
    "pd.set_option('display.width', 1500)\n",
    "pd.set_option('display.max_columns', 100)"
   ]
  },
  {
   "cell_type": "code",
   "execution_count": 2,
   "metadata": {},
   "outputs": [
    {
     "name": "stderr",
     "output_type": "stream",
     "text": [
      "/Users/hzaman/anaconda3/lib/python3.6/site-packages/numpy/lib/arraysetops.py:522: FutureWarning: elementwise comparison failed; returning scalar instead, but in the future will perform elementwise comparison\n",
      "  mask |= (ar1 == a)\n"
     ]
    }
   ],
   "source": [
    "df = pd.read_csv('loan_data.csv', index_col=0)"
   ]
  },
  {
   "cell_type": "code",
   "execution_count": 3,
   "metadata": {},
   "outputs": [
    {
     "name": "stderr",
     "output_type": "stream",
     "text": [
      "/Users/hzaman/anaconda3/lib/python3.6/site-packages/ipykernel_launcher.py:4: SettingWithCopyWarning: \n",
      "A value is trying to be set on a copy of a slice from a DataFrame.\n",
      "Try using .loc[row_indexer,col_indexer] = value instead\n",
      "\n",
      "See the caveats in the documentation: http://pandas.pydata.org/pandas-docs/stable/indexing.html#indexing-view-versus-copy\n",
      "  after removing the cwd from sys.path.\n"
     ]
    }
   ],
   "source": [
    "# estimating default rate\n",
    "df_v1 = df.loc[df['loan_status'].isin(['Default', 'Fully Paid','Charged Off'])]\n",
    "# lumping both default and charged off under the same category of default and turning variables into categorical\n",
    "df_v1['loan_status'] = df_v1['loan_status'].map({'Default': 1, 'Charged Off': 1, 'Fully Paid': 0.0})"
   ]
  },
  {
   "cell_type": "code",
   "execution_count": 4,
   "metadata": {
    "collapsed": true
   },
   "outputs": [],
   "source": [
    "# defining categorical and continuous variables\n",
    "cat_columns = ['loan_status', 'sub_grade', 'home_ownership','purpose', 'grade', 'mort_acc', 'emp_length', 'addr_state'] \n",
    "cts_columns = ['loan_amnt','int_rate','dti', 'inq_last_6mths', 'open_acc', 'total_acc', 'revol_util', 'total_pymnt',\n",
    "              'revol_bal', 'annual_inc']\n",
    "cat_cts_columns = cat_columns + cts_columns"
   ]
  },
  {
   "cell_type": "code",
   "execution_count": 5,
   "metadata": {
    "collapsed": true
   },
   "outputs": [],
   "source": [
    "# Making a function to handle categorical variables. While the following function assigns numerical values\n",
    "def make_cat_dict(arr):\n",
    "    a = list(set(arr.tolist()))\n",
    "    d = {}\n",
    "    for i in range(0,len(a)):\n",
    "        d[a[i]] = i\n",
    "    return d\n",
    "\n"
   ]
  },
  {
   "cell_type": "code",
   "execution_count": 6,
   "metadata": {},
   "outputs": [
    {
     "name": "stderr",
     "output_type": "stream",
     "text": [
      "/Users/hzaman/anaconda3/lib/python3.6/site-packages/ipykernel_launcher.py:7: SettingWithCopyWarning: \n",
      "A value is trying to be set on a copy of a slice from a DataFrame.\n",
      "Try using .loc[row_indexer,col_indexer] = value instead\n",
      "\n",
      "See the caveats in the documentation: http://pandas.pydata.org/pandas-docs/stable/indexing.html#indexing-view-versus-copy\n",
      "  import sys\n",
      "/Users/hzaman/anaconda3/lib/python3.6/site-packages/ipykernel_launcher.py:8: SettingWithCopyWarning: \n",
      "A value is trying to be set on a copy of a slice from a DataFrame.\n",
      "Try using .loc[row_indexer,col_indexer] = value instead\n",
      "\n",
      "See the caveats in the documentation: http://pandas.pydata.org/pandas-docs/stable/indexing.html#indexing-view-versus-copy\n",
      "  \n"
     ]
    },
    {
     "name": "stdout",
     "output_type": "stream",
     "text": [
      "loan_status is now recoded!\n"
     ]
    },
    {
     "name": "stderr",
     "output_type": "stream",
     "text": [
      "/Users/hzaman/anaconda3/lib/python3.6/site-packages/ipykernel_launcher.py:17: SettingWithCopyWarning: \n",
      "A value is trying to be set on a copy of a slice from a DataFrame.\n",
      "Try using .loc[row_indexer,col_indexer] = value instead\n",
      "\n",
      "See the caveats in the documentation: http://pandas.pydata.org/pandas-docs/stable/indexing.html#indexing-view-versus-copy\n"
     ]
    },
    {
     "name": "stdout",
     "output_type": "stream",
     "text": [
      "sub_grade is now recoded!\n",
      "home_ownership is now recoded!\n",
      "purpose is now recoded!\n",
      "grade is now recoded!\n",
      "mort_acc is now recoded!\n",
      "emp_length is now recoded!\n",
      "addr_state is now recoded!\n"
     ]
    },
    {
     "data": {
      "text/html": [
       "<div>\n",
       "<style>\n",
       "    .dataframe thead tr:only-child th {\n",
       "        text-align: right;\n",
       "    }\n",
       "\n",
       "    .dataframe thead th {\n",
       "        text-align: left;\n",
       "    }\n",
       "\n",
       "    .dataframe tbody tr th {\n",
       "        vertical-align: top;\n",
       "    }\n",
       "</style>\n",
       "<table border=\"1\" class=\"dataframe\">\n",
       "  <thead>\n",
       "    <tr style=\"text-align: right;\">\n",
       "      <th></th>\n",
       "      <th>loan_status</th>\n",
       "      <th>sub_grade</th>\n",
       "      <th>home_ownership</th>\n",
       "      <th>purpose</th>\n",
       "      <th>grade</th>\n",
       "      <th>mort_acc</th>\n",
       "      <th>emp_length</th>\n",
       "      <th>addr_state</th>\n",
       "      <th>loan_amnt</th>\n",
       "      <th>int_rate</th>\n",
       "      <th>dti</th>\n",
       "      <th>inq_last_6mths</th>\n",
       "      <th>open_acc</th>\n",
       "      <th>total_acc</th>\n",
       "      <th>revol_util</th>\n",
       "      <th>total_pymnt</th>\n",
       "      <th>revol_bal</th>\n",
       "      <th>annual_inc</th>\n",
       "    </tr>\n",
       "  </thead>\n",
       "  <tbody>\n",
       "    <tr>\n",
       "      <th>43</th>\n",
       "      <td>0</td>\n",
       "      <td>13</td>\n",
       "      <td>2</td>\n",
       "      <td>6</td>\n",
       "      <td>3</td>\n",
       "      <td>2</td>\n",
       "      <td>7</td>\n",
       "      <td>46</td>\n",
       "      <td>6000.0</td>\n",
       "      <td>22.90</td>\n",
       "      <td>32.77</td>\n",
       "      <td>0.0</td>\n",
       "      <td>10.0</td>\n",
       "      <td>29.0</td>\n",
       "      <td>85.9</td>\n",
       "      <td>6281.441670</td>\n",
       "      <td>36170.0</td>\n",
       "      <td>74000.0</td>\n",
       "    </tr>\n",
       "    <tr>\n",
       "      <th>159</th>\n",
       "      <td>0</td>\n",
       "      <td>14</td>\n",
       "      <td>2</td>\n",
       "      <td>7</td>\n",
       "      <td>5</td>\n",
       "      <td>0</td>\n",
       "      <td>6</td>\n",
       "      <td>6</td>\n",
       "      <td>1000.0</td>\n",
       "      <td>20.39</td>\n",
       "      <td>12.75</td>\n",
       "      <td>0.0</td>\n",
       "      <td>2.0</td>\n",
       "      <td>2.0</td>\n",
       "      <td>60.5</td>\n",
       "      <td>1042.772353</td>\n",
       "      <td>3627.0</td>\n",
       "      <td>9600.0</td>\n",
       "    </tr>\n",
       "    <tr>\n",
       "      <th>259</th>\n",
       "      <td>0</td>\n",
       "      <td>13</td>\n",
       "      <td>5</td>\n",
       "      <td>6</td>\n",
       "      <td>3</td>\n",
       "      <td>7</td>\n",
       "      <td>7</td>\n",
       "      <td>6</td>\n",
       "      <td>5000.0</td>\n",
       "      <td>22.90</td>\n",
       "      <td>15.57</td>\n",
       "      <td>1.0</td>\n",
       "      <td>8.0</td>\n",
       "      <td>18.0</td>\n",
       "      <td>64.6</td>\n",
       "      <td>5201.191962</td>\n",
       "      <td>12407.0</td>\n",
       "      <td>43700.0</td>\n",
       "    </tr>\n",
       "    <tr>\n",
       "      <th>271</th>\n",
       "      <td>0</td>\n",
       "      <td>17</td>\n",
       "      <td>1</td>\n",
       "      <td>6</td>\n",
       "      <td>3</td>\n",
       "      <td>0</td>\n",
       "      <td>6</td>\n",
       "      <td>5</td>\n",
       "      <td>12000.0</td>\n",
       "      <td>26.77</td>\n",
       "      <td>16.13</td>\n",
       "      <td>1.0</td>\n",
       "      <td>9.0</td>\n",
       "      <td>11.0</td>\n",
       "      <td>60.7</td>\n",
       "      <td>12575.226488</td>\n",
       "      <td>7589.0</td>\n",
       "      <td>54000.0</td>\n",
       "    </tr>\n",
       "    <tr>\n",
       "      <th>280</th>\n",
       "      <td>0</td>\n",
       "      <td>21</td>\n",
       "      <td>1</td>\n",
       "      <td>10</td>\n",
       "      <td>1</td>\n",
       "      <td>0</td>\n",
       "      <td>10</td>\n",
       "      <td>14</td>\n",
       "      <td>5000.0</td>\n",
       "      <td>13.06</td>\n",
       "      <td>5.33</td>\n",
       "      <td>0.0</td>\n",
       "      <td>14.0</td>\n",
       "      <td>19.0</td>\n",
       "      <td>42.1</td>\n",
       "      <td>5049.002132</td>\n",
       "      <td>3913.0</td>\n",
       "      <td>35360.0</td>\n",
       "    </tr>\n",
       "  </tbody>\n",
       "</table>\n",
       "</div>"
      ],
      "text/plain": [
       "     loan_status  sub_grade  home_ownership  purpose  grade  mort_acc  emp_length  addr_state  loan_amnt  int_rate    dti  inq_last_6mths  open_acc  total_acc  revol_util   total_pymnt  revol_bal  annual_inc\n",
       "43             0         13               2        6      3         2           7          46     6000.0     22.90  32.77             0.0      10.0       29.0        85.9   6281.441670    36170.0     74000.0\n",
       "159            0         14               2        7      5         0           6           6     1000.0     20.39  12.75             0.0       2.0        2.0        60.5   1042.772353     3627.0      9600.0\n",
       "259            0         13               5        6      3         7           7           6     5000.0     22.90  15.57             1.0       8.0       18.0        64.6   5201.191962    12407.0     43700.0\n",
       "271            0         17               1        6      3         0           6           5    12000.0     26.77  16.13             1.0       9.0       11.0        60.7  12575.226488     7589.0     54000.0\n",
       "280            0         21               1       10      1         0          10          14     5000.0     13.06   5.33             0.0      14.0       19.0        42.1   5049.002132     3913.0     35360.0"
      ]
     },
     "execution_count": 6,
     "metadata": {},
     "output_type": "execute_result"
    }
   ],
   "source": [
    "# Making copies of the dataframe with categorical and cts variables\n",
    "df_rf_cat = df_v1[cat_columns]\n",
    "df_rf_cts = df_v1[cts_columns]\n",
    "df_rf = df_v1[cat_cts_columns]\n",
    "\n",
    "# removing % sign from the data whereever it exits\n",
    "df_rf['int_rate'] = df_rf['int_rate'].str.rstrip('%').astype('float')\n",
    "df_rf['revol_util'] = df_rf['revol_util'].str.rstrip('%').astype('float')\n",
    "my_test_df = df_rf.copy()\n",
    "\n",
    "cat_val_dict = {}\n",
    "# Encoding the categorical variables\n",
    "for category in cat_columns:\n",
    "    print(category + \" is now recoded!\")\n",
    "    # df[category] = df[category].astype('category')\n",
    "    cat_dict = make_cat_dict(df_rf[category])\n",
    "    df_rf[category] = df_rf[category].map(cat_dict)\n",
    "    cat_val_dict[category] = cat_dict\n",
    "    # df_rf[category] = pd.Categorical.from_array(df_rf_cat[category]).labels\n",
    "    \n",
    "\n",
    "# Accessing the head of the dataframe\n",
    "df_rf.head()"
   ]
  },
  {
   "cell_type": "code",
   "execution_count": 7,
   "metadata": {
    "collapsed": true
   },
   "outputs": [],
   "source": [
    "# Estimating probability of default given loan characteristics\n",
    "# Splitting the dataset\n",
    "df_v2 = df_rf.copy()\n",
    "\n",
    "y = df_v2['loan_status']\n",
    "x = df_v2.drop(['loan_status'], axis = 1)\n",
    "\n",
    "X_train, X_test, y_train, y_test = train_test_split(x, y, test_size=0.5, random_state=99)"
   ]
  },
  {
   "cell_type": "code",
   "execution_count": 8,
   "metadata": {},
   "outputs": [
    {
     "name": "stdout",
     "output_type": "stream",
     "text": [
      "OOB, accuracy: 0.9811493289389711\n",
      "The accuracy on training set: 0.992479734814208\n",
      "The accuracy on test set: 0.9820955138768499\n"
     ]
    }
   ],
   "source": [
    "# Fitting a random forest\n",
    "n_trees, maxf = 45, 14\n",
    "\n",
    "est = RandomForestClassifier(oob_score=True, n_estimators = n_trees, max_depth=20)\n",
    "rf1 = est.fit(X_train, y_train)\n",
    "print(\"OOB, accuracy:\", rf1.oob_score_)\n",
    "\n",
    "train_acc_rf1 = rf1.score(X_train, y_train)\n",
    "print(\"The accuracy on training set:\",train_acc_rf1)\n",
    "\n",
    "test_acc_rf1 = rf1.score(X_test, y_test)\n",
    "print(\"The accuracy on test set:\", test_acc_rf1)"
   ]
  },
  {
   "cell_type": "code",
   "execution_count": 9,
   "metadata": {},
   "outputs": [
    {
     "name": "stdout",
     "output_type": "stream",
     "text": [
      "[[0.94814037 0.05185963]\n",
      " [0.99314436 0.00685564]\n",
      " [0.98020915 0.01979085]\n",
      " ...\n",
      " [0.97667333 0.02332667]\n",
      " [0.96204923 0.03795077]\n",
      " [0.98667422 0.01332578]]\n"
     ]
    }
   ],
   "source": [
    "# Predicting probability of default\n",
    "print(est.predict_proba(X_train))\n",
    "# print(est.predict_proba(X_test))\n",
    "\n",
    "# Assuming the target is (0,1) => (full_paid, default/charged-off), the pair of probabilities we get below\n",
    "# "
   ]
  },
  {
   "cell_type": "code",
   "execution_count": 10,
   "metadata": {
    "collapsed": true
   },
   "outputs": [],
   "source": [
    "# esimated_model is the model estimated using tarining data\n",
    "# new_entry corresponds to a new loan that we are going to calculate default probability on\n",
    "# cat_cols is the list of all categorical columns\n",
    "# cat_val_dict is the dictionary of dictionaries that includes a categoerical variables and their \n",
    "# underlying entries from training data\n",
    "\n",
    "def predict_default_prob(estimated_model, new_entry, cat_cols, cat_val_dict):\n",
    "    #print(new_entry)\n",
    "    # first for loop takes categorical columns of new_entry as input and updates their values \n",
    "    # according to the values in cat_val_dict\n",
    "    # cat_val_dict includes all the parameter values from the training model\n",
    "    for col in cat_cols:\n",
    "        if(col != 'loan_status'):\n",
    "            d = cat_val_dict[col]\n",
    "            new_entry[col] = d[new_entry[col]]\n",
    "\n",
    "    arr = np.array(list(new_entry.values())).reshape(1,len(new_entry))\n",
    "    # now estimating the probability of default for a new loan\n",
    "    prob = estimated_model.predict_proba(arr)\n",
    "    return prob[0][1]  # [0][1] gives probability of default. [0][0] gives probability of no deafult"
   ]
  },
  {
   "cell_type": "code",
   "execution_count": 11,
   "metadata": {
    "collapsed": true
   },
   "outputs": [],
   "source": [
    "# Let's test a new loan to see if our model correctly predicts default probability\n",
    "data = my_test_df.copy()\n",
    "y_var = data['loan_status']\n",
    "x_var = data[cat_cts_columns]\n",
    "x_var = x_var.drop(['loan_status'], axis = 1)\n",
    "\n",
    "row = x_var.iloc[0].to_dict()\n",
    "# sample_row = {'sub_grade': 'E1', 'home_ownership': 'OWN', 'purpose': 'debt_consolidation', 'grade': 'E', \n",
    "#               'mort_acc': 2.0, 'emp_length': '6 years', 'addr_state': 'GA', 'loan_amnt': 6000.0, \n",
    "#               'int_rate': 22.9, 'dti': 32.77, 'inq_last_6mths': 0.0, 'open_acc': 10.0, \n",
    "#               'total_acc': 29.0, 'revol_util': 85.9, 'total_pymnt': 6281.4416701799, \n",
    "#               'revol_bal': 36170.0, 'annual_inc': 74000.0}\n",
    "predicted_default_prob = predict_default_prob(est, row, cat_columns, cat_val_dict)\n",
    "\n"
   ]
  },
  {
   "cell_type": "code",
   "execution_count": 12,
   "metadata": {
    "collapsed": true
   },
   "outputs": [],
   "source": [
    "#################################################################"
   ]
  },
  {
   "cell_type": "code",
   "execution_count": 13,
   "metadata": {
    "collapsed": true
   },
   "outputs": [],
   "source": [
    "# Now moving to return rate estimation using second random forest regressor"
   ]
  },
  {
   "cell_type": "code",
   "execution_count": 14,
   "metadata": {
    "collapsed": true
   },
   "outputs": [],
   "source": [
    "# Estimating repay_retment rate of only_ret defaulted/charged off loans given loan characteristics\n",
    "# Splitting the dataset\n",
    "df_ret_v1 = df_rf.copy()\n",
    "\n",
    "# reducing dataset to include only_ret those loans that have defaulted/charged off i.e. category_ret = 1\n",
    "df_ret_v1 = df_ret_v1.loc[df_ret_v1['loan_status'].isin([1])]\n",
    "\n",
    "# removing column loan_status because this has a value of 1 throughout now\n",
    "df_ret_v1 = df_ret_v1.drop(['loan_status'], axis = 1)\n",
    "y_ret = df_ret_v1['total_pymnt']\n",
    "x_ret = df_ret_v1.drop(['total_pymnt'], axis = 1)\n",
    "\n",
    "X_ret_train, X_ret_test, y_ret_train, y_ret_test = train_test_split(x_ret, y_ret, test_size=0.5, random_state=99)"
   ]
  },
  {
   "cell_type": "code",
   "execution_count": 20,
   "metadata": {},
   "outputs": [
    {
     "name": "stdout",
     "output_type": "stream",
     "text": [
      "OOB, accuracy_ret: 0.5234142895871233\n",
      "The accuracy_ret on training set: 0.8060828142855806\n",
      "The accuracy_ret on test_ret set: 0.5346628788776852\n"
     ]
    }
   ],
   "source": [
    "# Fitting a random forest_ret\n",
    "n_trees, maxf = 45, 14\n",
    "\n",
    "est_ret = RandomForestRegressor(oob_score=True, n_estimators = n_trees, max_depth=20)\n",
    "rf1_est = est_ret.fit(X_ret_train, y_ret_train)\n",
    "print(\"OOB, accuracy_ret:\", rf1_est.oob_score_)\n",
    "\n",
    "train_acc_rf1_est = rf1_est.score(X_ret_train, y_ret_train)\n",
    "print(\"The accuracy_ret on training set:\",train_acc_rf1_est)\n",
    "\n",
    "test_ret_acc_rf1_est = rf1_est.score(X_ret_test, y_ret_test)\n",
    "print(\"The accuracy_ret on test_ret set:\", test_ret_acc_rf1_est)"
   ]
  },
  {
   "cell_type": "code",
   "execution_count": 21,
   "metadata": {},
   "outputs": [
    {
     "name": "stdout",
     "output_type": "stream",
     "text": [
      "[ 3447.36896399  7656.74272977 10841.28996375 ... 15533.30395259\n",
      "  4422.39600451  4830.30601359]\n"
     ]
    }
   ],
   "source": [
    "# Predicting total payment for defaulted/charged off loans\n",
    "print(est_ret.predict(X_ret_train))\n",
    "# print(est.predict_proba(X_test))\n",
    "\n",
    "# Assuming the target is (0,1) => (full_paid, default/charged-off), the pair of probabilities we get below\n",
    "# "
   ]
  },
  {
   "cell_type": "code",
   "execution_count": 22,
   "metadata": {
    "collapsed": true
   },
   "outputs": [],
   "source": [
    "# esimated_model is the model estimated using tarining data\n",
    "# new_entry corresponds to a new loan that we are going to calculate default probability on\n",
    "# cat_cols is the list of all categorical columns\n",
    "# cat_val_dict is the dictionary of dictionaries that includes a categoerical variables and their \n",
    "# underlying entries from training data\n",
    "\n",
    "def predict_default_pymnt(estimated_model, new_entry, cat_cols, cat_val_dict):\n",
    "    #print(new_entry)\n",
    "    # first for loop takes categorical columns of new_entry as input and updates their values \n",
    "    # according to the values in cat_val_dict\n",
    "    # cat_val_dict includes all the parameter values from the training model\n",
    "    for col in cat_cols:\n",
    "        if(col != 'loan_status'):\n",
    "            d = cat_val_dict[col]\n",
    "            new_entry[col] = d[new_entry[col]]\n",
    "\n",
    "    arr = np.array(list(new_entry.values())).reshape(1,len(new_entry))\n",
    "    # now estimating the partial repayment for a new loan in case it defaults\n",
    "    pymnt = estimated_model.predict(arr)\n",
    "    return pymnt[0]  "
   ]
  },
  {
   "cell_type": "code",
   "execution_count": 23,
   "metadata": {
    "collapsed": true
   },
   "outputs": [],
   "source": [
    "# Let's test a new loan to see if our model correctly predicts default probability\n",
    "data_ret = my_test_df.copy()\n",
    "y_ret_var = data_ret['total_pymnt']\n",
    "all_columns = []\n",
    "all_columns = all_columns + cat_cts_columns\n",
    "all_columns.remove('loan_status')\n",
    "x_ret_var = data_ret[all_columns]\n",
    "x_ret_var = x_ret_var.drop(['total_pymnt'], axis = 1)\n",
    "\n",
    "row_ret = x_ret_var.iloc[0].to_dict()\n",
    "\n",
    "# sample_row = {'sub_grade': 'E1', 'home_ownership': 'OWN', 'purpose': 'debt_consolidation', \n",
    "#               'grade': 'E', 'mort_acc': 2.0, 'emp_length': '6 years', 'addr_state': 'GA', \n",
    "#               'loan_amnt': 6000.0, 'int_rate': 22.9, 'dti': 32.77, 'inq_last_6mths': 0.0, \n",
    "#               'open_acc': 10.0, 'total_acc': 29.0, 'revol_util': 85.9, 'revol_bal': 36170.0, \n",
    "#               'annual_inc': 74000.0}\n",
    "predicted_payment = predict_default_pymnt(est_ret, row_ret, cat_columns, cat_val_dict)\n",
    "\n",
    "# adjust the 3 below as necessary\n",
    "full_repayment = row_ret['loan_amnt']*(1.03)\n",
    "full_repayment_prob = 1 - predicted_default_prob"
   ]
  },
  {
   "cell_type": "code",
   "execution_count": 29,
   "metadata": {},
   "outputs": [
    {
     "name": "stdout",
     "output_type": "stream",
     "text": [
      "{'sub_grade': 13, 'home_ownership': 2, 'purpose': 6, 'grade': 3, 'mort_acc': 2, 'emp_length': 7, 'addr_state': 46, 'loan_amnt': 6000.0, 'int_rate': 22.9, 'dti': 32.77, 'inq_last_6mths': 0.0, 'open_acc': 10.0, 'total_acc': 29.0, 'revol_util': 85.9, 'revol_bal': 36170.0, 'annual_inc': 74000.0}\n",
      "sub_grade                         E1\n",
      "home_ownership                   OWN\n",
      "purpose           debt_consolidation\n",
      "grade                              E\n",
      "mort_acc                           2\n",
      "emp_length                   6 years\n",
      "addr_state                        GA\n",
      "loan_amnt                       6000\n",
      "int_rate                        22.9\n",
      "dti                            32.77\n",
      "inq_last_6mths                     0\n",
      "open_acc                          10\n",
      "total_acc                         29\n",
      "revol_util                      85.9\n",
      "revol_bal                      36170\n",
      "annual_inc                     74000\n",
      "Name: 43, dtype: object\n",
      "6281.4416701799\n"
     ]
    }
   ],
   "source": [
    "print(row_ret)\n",
    "print(x_ret_var.iloc[0])\n",
    "print(y_ret_var.iloc[0])"
   ]
  },
  {
   "cell_type": "code",
   "execution_count": 30,
   "metadata": {},
   "outputs": [
    {
     "name": "stdout",
     "output_type": "stream",
     "text": [
      "0.048429415297625344\n"
     ]
    }
   ],
   "source": [
    "# Let's develop a function to estimate return rate on a loan, train our model parameters, \n",
    "df_v3 = df_rf.copy()\n",
    "expected_ret_amount = predicted_payment*predicted_default_prob + full_repayment*full_repayment_prob\n",
    "\n",
    "\n",
    "\n",
    "expected_ret_rate = ((predicted_payment/row['loan_amnt'])*predicted_default_prob + \\\n",
    "                    (full_repayment/row['loan_amnt'])*full_repayment_prob)\n",
    "\n",
    "print(expected_ret_rate)\n"
   ]
  }
 ],
 "metadata": {
  "kernelspec": {
   "display_name": "Python 3",
   "language": "python",
   "name": "python3"
  },
  "language_info": {
   "codemirror_mode": {
    "name": "ipython",
    "version": 3
   },
   "file_extension": ".py",
   "mimetype": "text/x-python",
   "name": "python",
   "nbconvert_exporter": "python",
   "pygments_lexer": "ipython3",
   "version": "3.6.2"
  }
 },
 "nbformat": 4,
 "nbformat_minor": 2
}
